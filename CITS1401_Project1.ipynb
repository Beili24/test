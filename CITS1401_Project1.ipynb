{
 "cells": [
  {
   "cell_type": "code",
   "execution_count": 1,
   "id": "e85ec7c1",
   "metadata": {},
   "outputs": [],
   "source": [
    "# Helper function to read the CSV file and store all data regardless of category\n",
    "def read_csv(file):\n",
    "    try:\n",
    "        with open(file, 'r') as f:\n",
    "            lines = f.readlines()  # Read all lines from the file\n",
    "    except FileNotFoundError:\n",
    "        return []  # If the file is not found, return an empty list\n",
    "\n",
    "    headers = lines[0].strip().split(',')  # Split the first line to get the header names and remove the whitespaces\n",
    "    data = []  # Initialize an empty list to hold all the product data\n",
    "    for line in lines[1:]:  # Loop through each line after the header\n",
    "        fields = line.strip().split(',')  # Split each line by commas\n",
    "        data.append({\n",
    "            'product_id': fields[headers.index('product_id')].lower(),  # Convert product ID to lowercase\n",
    "            'product_name': fields[headers.index('product_name')].lower(),  # Convert product name to lowercase\n",
    "            'category': fields[headers.index('category')].lower(),  # Convert category to lowercase\n",
    "            'discounted_price': float(fields[headers.index('discounted_price $')]),\n",
    "            'actual_price': float(fields[headers.index('actual_price $')]),\n",
    "            'discounted_percentage': float(fields[headers.index('discount_percentage %')]),\n",
    "            'rating': float(fields[headers.index('rating')]),\n",
    "            'rating_count': int(fields[headers.index('rating_count')])\n",
    "        })\n",
    "    return data\n",
    "\n",
    "\n",
    "# Function to filter the data by category (case-insensitive)\n",
    "def filter_by_category(data, category):\n",
    "    # Convert the category to lowercase to ensure case-insensitive comparison\n",
    "    category_lower = category.lower()\n",
    "    \n",
    "    # Create a new list for the selected data filtered by the specified category\n",
    "    selected_data = [product for product in data if product['category'].lower() == category_lower]\n",
    "    return selected_data  # Return the filtered data by category\n"
   ]
  },
  {
   "cell_type": "code",
   "execution_count": 2,
   "id": "19827ea1",
   "metadata": {},
   "outputs": [],
   "source": [
    "# Helper function to read the sales data from the TXT file\n",
    "def read_txt(file):\n",
    "    sales_data = {}  # Dictionary to hold sales data\n",
    "    try:\n",
    "        with open(file, 'r') as f:\n",
    "            for line in f:\n",
    "                year_part, *sales = line.strip().split(', ')  # Split each line by comma and spaces\n",
    "                year = int(year_part.split(\": \")[1])  # Extract the year value\n",
    "                for product_sales in sales:\n",
    "                    product_id, units_sold = product_sales.split(': ')  # Split product_id and units sold\n",
    "                    product_id = product_id.strip().lower()  # Convert product ID to lowercase\n",
    "                    units_sold = int(units_sold)  # Convert units sold to an integer\n",
    "                    if product_id not in sales_data:\n",
    "                        sales_data[product_id] = {}  # Initialize a new dictionary for this product ID\n",
    "                    sales_data[product_id][year] = units_sold  # Add the sales data for this year\n",
    "        return sales_data  # Return the dictionary containing sales data\n",
    "    except FileNotFoundError:\n",
    "        return {}  # Return an empty dictionary if the file is not found\n"
   ]
  },
  {
   "cell_type": "code",
   "execution_count": 3,
   "id": "9b4ce915",
   "metadata": {},
   "outputs": [],
   "source": [
    "# Set the selected category\n",
    "category = 'computers&accessories' "
   ]
  },
  {
   "cell_type": "code",
   "execution_count": 4,
   "id": "d536e5bf",
   "metadata": {},
   "outputs": [],
   "source": [
    "# Set the csv file and txt file\n",
    "CSVfile = 'Amazon_products.csv'  # Adjust the path to the CSV file\n",
    "TXTfile = 'Amazon_sales.txt'  # Adjust the path to the TXT file"
   ]
  },
  {
   "cell_type": "code",
   "execution_count": 5,
   "id": "442a5719",
   "metadata": {},
   "outputs": [],
   "source": [
    "# Task 1: Find the product with the highest and lowest discounted prices in the selected data (filtered by category)\n",
    "def task_1(selected_data):\n",
    "    if not selected_data:  # If no data is found, return None\n",
    "        return [None, None]\n",
    "    \n",
    "    # Find the product with the maximum discounted price\n",
    "    max_discounted_product = max(selected_data, key=lambda x: x['discounted_price'])\n",
    "    # Find the product with the minimum discounted price\n",
    "    min_discounted_product = min(selected_data, key=lambda x: x['discounted_price'])\n",
    "    \n",
    "    # Return the product IDs of the highest and lowest discounted products\n",
    "    return [max_discounted_product['product_id'], min_discounted_product['product_id']]"
   ]
  },
  {
   "cell_type": "code",
   "execution_count": 6,
   "id": "dc7de54a",
   "metadata": {},
   "outputs": [],
   "source": [
    "# Helper function for Task 2: Calculate the mean, median, and mean absolute deviation (MAD) of the actual prices in the selected data\n",
    "def task_2(selected_data):\n",
    "    # Filter products with a rating count greater than 1000\n",
    "    filtered = [x['actual_price'] for x in selected_data if x['rating_count'] > 1000]\n",
    "    \n",
    "    if not filtered:  # If no data is found, return zeros for mean, median, and MAD\n",
    "        return [0, 0, 0]\n",
    "\n",
    "    # Calculate the mean\n",
    "    mean = sum(filtered) / len(filtered)\n",
    "    \n",
    "    # Calculate the median\n",
    "    sorted_prices = sorted(filtered)\n",
    "    median = sorted_prices[len(filtered) // 2]\n",
    "    \n",
    "    # Calculate the mean absolute deviation (MAD)\n",
    "    mad = sum([abs(x - mean) for x in filtered]) / len(filtered)\n",
    "\n",
    "    # Return the mean, median, and MAD rounded to 4 decimal places\n",
    "    return [round(mean, 4), round(median, 4), round(mad, 4)]\n"
   ]
  },
  {
   "cell_type": "code",
   "execution_count": 7,
   "id": "fa6f46b4",
   "metadata": {},
   "outputs": [],
   "source": [
    "# Helper function for Task 3: Calculate Standard Deviation of Discounted Percentages for each category\n",
    "def task_3(data):\n",
    "    # Create a dictionary to store discounted percentages by category\n",
    "    category_data = {}\n",
    "\n",
    "    # Group discounted percentages by category where the rating is between 3.3 and 4.3\n",
    "    for product in data:\n",
    "        if 3.3 <= product['rating'] <= 4.3:\n",
    "            category = product['category']\n",
    "            if category not in category_data:  # If this category is not already in the category_data dictionary\n",
    "                category_data[category] = []   # Create an empty list for this category in the dictionary\n",
    "            category_data[category].append(product['discounted_percentage'])\n",
    "\n",
    "    # Create a list to store the standard deviations for each category\n",
    "    stddev_list = []\n",
    "\n",
    "    # Calculate the standard deviation for each category\n",
    "    for category, percentages in category_data.items():\n",
    "        if len(percentages) > 1:  # Ensure there are enough records to calculate stddev\n",
    "            mean = sum(percentages) / len(percentages)\n",
    "            stddev = (sum([(x - mean) ** 2 for x in percentages]) / (len(percentages) - 1)) ** 0.5\n",
    "            stddev_list.append(round(stddev, 4))  # Round to 4 decimal places\n",
    "\n",
    "    # Sort the list of standard deviations in descending order\n",
    "    return sorted(stddev_list, reverse=True)\n"
   ]
  },
  {
   "cell_type": "code",
   "execution_count": 8,
   "id": "0629819c",
   "metadata": {},
   "outputs": [],
   "source": [
    "# Helper function for Task 4: Calculate the correlation coefficient (case-insensitive product IDs)\n",
    "def task_4(product_ids, sales_data):\n",
    "    if not product_ids or not sales_data:\n",
    "        return 0  # Return 0 if there are no product IDs or sales data\n",
    "\n",
    "    # Convert product IDs to lowercase to handle case-insensitive comparison\n",
    "    product_id_max = product_ids[0].lower()\n",
    "    product_id_min = product_ids[1].lower()\n",
    "\n",
    "    # Extract the sales data for the product with the highest discounted price\n",
    "    max_sales_data = sales_data.get(product_id_max, {})\n",
    "    # Extract the sales data for the product with the lowest discounted price\n",
    "    min_sales_data = sales_data.get(product_id_min, {})\n",
    "\n",
    "    # Get all the years mentioned in the sales.txt file (union of all available years in sales_data)\n",
    "    all_years = set()\n",
    "    for product, yearly_data in sales_data.items():\n",
    "        all_years.update(yearly_data.keys())\n",
    "\n",
    "    # Prepare lists for sales data, using 0 for missing sales in certain years\n",
    "    max_sales = []\n",
    "    min_sales = []\n",
    "\n",
    "    # Populate the sales lists, using 0 for missing years\n",
    "    for year in sorted(all_years):  # Sort to ensure chronological order\n",
    "        max_sales.append(max_sales_data.get(year, 0))  # Use 0 if no sales for max product\n",
    "        min_sales.append(min_sales_data.get(year, 0))  # Use 0 if no sales for min product\n",
    "\n",
    "    # If all sales are 0 for both products, return 0\n",
    "    if all(s == 0 for s in max_sales) and all(s == 0 for s in min_sales):\n",
    "        return 0\n",
    "\n",
    "    # Calculate the mean sales for both products\n",
    "    mean_max = sum(max_sales) / len(max_sales)\n",
    "    mean_min = sum(min_sales) / len(min_sales)\n",
    "\n",
    "    # Calculate the numerator (Σ(x_i - mean_max)(y_i - mean_min))\n",
    "    numerator = sum([(max_sales[i] - mean_max) * (min_sales[i] - mean_min) for i in range(len(max_sales))])\n",
    "\n",
    "    # Calculate the denominator sqrt(Σ(x_i - mean_max)^2 * Σ(y_i - mean_min)^2)\n",
    "    denominator_max = sum([(x - mean_max) ** 2 for x in max_sales])\n",
    "    denominator_min = sum([(y - mean_min) ** 2 for y in min_sales])\n",
    "\n",
    "    denominator = (denominator_max * denominator_min) ** 0.5\n",
    "\n",
    "    # Check if the denominator is zero to avoid division by zero\n",
    "    if denominator == 0:\n",
    "        return 0  # If no variance, return correlation of 0\n",
    "\n",
    "    # Calculate the correlation coefficient\n",
    "    correlation = numerator / denominator\n",
    "\n",
    "    # Round to 4 decimal places and return the result\n",
    "    return round(correlation, 4)\n"
   ]
  },
  {
   "cell_type": "code",
   "execution_count": 9,
   "id": "ce4d4251",
   "metadata": {},
   "outputs": [],
   "source": [
    "# Define the main function\n",
    "def main(CSVfile, TXTfile, category):\n",
    "    # Step 1: Read all data from the CSV file\n",
    "    data = read_csv(CSVfile)\n",
    "\n",
    "    # Step 2: Filter data by the given category for Task 1 and Task 2\n",
    "    selected_data = filter_by_category(data, category)\n",
    "\n",
    "    # Task 1: Highest and lowest discounted prices\n",
    "    OP1 = task_1(selected_data)\n",
    "\n",
    "    # Task 2: Calculate mean, median, and MAD\n",
    "    OP2 = task_2(selected_data)\n",
    "\n",
    "    # Task 3: Calculate standard deviation for all categories\n",
    "    OP3 = task_3(data)\n",
    "\n",
    "    # Task 4: Read sales data and calculate correlation coefficient\n",
    "    sales_data = read_txt(TXTfile)\n",
    "    OP4 = task_4(OP1, sales_data)\n",
    "\n",
    "    # Return the outputs from all tasks\n",
    "    return OP1, OP2, OP3, OP4\n"
   ]
  },
  {
   "cell_type": "code",
   "execution_count": 10,
   "id": "8fe47433",
   "metadata": {},
   "outputs": [],
   "source": [
    "# Call the main function to get the outputs\n",
    "OP1, OP2, OP3, OP4 = main(CSVfile, TXTfile, category)"
   ]
  },
  {
   "cell_type": "code",
   "execution_count": 11,
   "id": "84158dbc",
   "metadata": {},
   "outputs": [
    {
     "data": {
      "text/plain": [
       "['b07vtfn6hm', 'b08y5kxr6z']"
      ]
     },
     "execution_count": 11,
     "metadata": {},
     "output_type": "execute_result"
    }
   ],
   "source": [
    "OP1"
   ]
  },
  {
   "cell_type": "code",
   "execution_count": 12,
   "id": "de2c7fe7",
   "metadata": {},
   "outputs": [
    {
     "data": {
      "text/plain": [
       "[2018.8, 800.0, 2132.48]"
      ]
     },
     "execution_count": 12,
     "metadata": {},
     "output_type": "execute_result"
    }
   ],
   "source": [
    "OP2"
   ]
  },
  {
   "cell_type": "code",
   "execution_count": 13,
   "id": "ef86670b",
   "metadata": {},
   "outputs": [
    {
     "data": {
      "text/plain": [
       "[0.297, 0.2654, 0.2311, 0.198, 0.1701, 0.1596, 0.0071]"
      ]
     },
     "execution_count": 13,
     "metadata": {},
     "output_type": "execute_result"
    }
   ],
   "source": [
    "OP3"
   ]
  },
  {
   "cell_type": "code",
   "execution_count": 14,
   "id": "2ccada0e",
   "metadata": {},
   "outputs": [
    {
     "data": {
      "text/plain": [
       "-0.0232"
      ]
     },
     "execution_count": 14,
     "metadata": {},
     "output_type": "execute_result"
    }
   ],
   "source": [
    "OP4"
   ]
  },
  {
   "cell_type": "code",
   "execution_count": null,
   "id": "9a89daf2",
   "metadata": {},
   "outputs": [],
   "source": []
  }
 ],
 "metadata": {
  "kernelspec": {
   "display_name": "Python 3 (ipykernel)",
   "language": "python",
   "name": "python3"
  },
  "language_info": {
   "codemirror_mode": {
    "name": "ipython",
    "version": 3
   },
   "file_extension": ".py",
   "mimetype": "text/x-python",
   "name": "python",
   "nbconvert_exporter": "python",
   "pygments_lexer": "ipython3",
   "version": "3.11.6"
  }
 },
 "nbformat": 4,
 "nbformat_minor": 5
}
